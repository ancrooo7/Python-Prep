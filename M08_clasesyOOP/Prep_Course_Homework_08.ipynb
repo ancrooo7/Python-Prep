{
 "cells": [
  {
   "attachments": {},
   "cell_type": "markdown",
   "metadata": {},
   "source": [
    "## Clases y Programación Orientada a Objetos"
   ]
  },
  {
   "attachments": {},
   "cell_type": "markdown",
   "metadata": {},
   "source": [
    "1) Crear la clase vehículo que contenga los atributos:<br>\n",
    "Color<br>\n",
    "Si es moto, auto, camioneta ó camión<br>\n",
    "Cilindrada del motor"
   ]
  },
  {
   "cell_type": "code",
   "execution_count": null,
   "metadata": {},
   "outputs": [],
   "source": [
    "class Vehiculo():\n",
    "    def __init__(self, color, cilindrada, tipo):\n",
    "        self.color = color\n",
    "        self.cilindrada = cilindrada\n",
    "        self.tipo = tipo"
   ]
  },
  {
   "attachments": {},
   "cell_type": "markdown",
   "metadata": {},
   "source": [
    "2) A la clase Vehiculo creada en el punto 1, agregar los siguientes métodos:<br>\n",
    "Acelerar<br>\n",
    "Frenar<br>\n",
    "Doblar<br>"
   ]
  },
  {
   "cell_type": "code",
   "execution_count": 2,
   "metadata": {},
   "outputs": [],
   "source": [
    "class Vehiculo():\n",
    "    def __init__(self, color, cilindrada, tipo):\n",
    "        self.color = color\n",
    "        self.cilindrada = cilindrada\n",
    "        self.tipo = tipo\n",
    "\n",
    "    def acelerar(self):\n",
    "        print(\"Acelerar\")\n",
    "\n",
    "    def frenar(self):\n",
    "        print(\"Frenar\")\n",
    "    \n",
    "    def doblar(self):\n",
    "        print(\"Doblar\")"
   ]
  },
  {
   "attachments": {},
   "cell_type": "markdown",
   "metadata": {},
   "source": [
    "3) Instanciar 3 objetos de la clase vehículo y ejecutar sus métodos, probar luego el resultado"
   ]
  },
  {
   "cell_type": "code",
   "execution_count": 5,
   "metadata": {},
   "outputs": [
    {
     "name": "stdout",
     "output_type": "stream",
     "text": [
      "Moto\n",
      "Acelerar\n",
      "Frenar\n",
      "Doblar\n",
      "Auto\n",
      "Acelerar\n",
      "Frenar\n",
      "Doblar\n",
      "Camión\n",
      "Acelerar\n",
      "Frenar\n",
      "Doblar\n"
     ]
    }
   ],
   "source": [
    "moto = Vehiculo(\"naranja\", 2, \"Moto\")\n",
    "auto = Vehiculo(\"rojo\", 4, \"Auto\")\n",
    "camion = Vehiculo(\"azul\", 6, \"Camión\")\n",
    "\n",
    "print(moto.tipo)\n",
    "moto.acelerar()\n",
    "moto.frenar()\n",
    "moto.doblar()\n",
    "\n",
    "print(auto.tipo)\n",
    "auto.acelerar()\n",
    "auto.frenar()\n",
    "auto.doblar()\n",
    "\n",
    "print(camion.tipo)\n",
    "camion.acelerar()\n",
    "camion.frenar()\n",
    "camion.doblar()"
   ]
  },
  {
   "attachments": {},
   "cell_type": "markdown",
   "metadata": {},
   "source": [
    "4) Agregar a la clase Vehiculo, un método que muestre su estado, es decir, a que velocidad se encuentra y su dirección. Y otro método que muestre color, tipo y cilindrada"
   ]
  },
  {
   "cell_type": "code",
   "execution_count": 8,
   "metadata": {},
   "outputs": [
    {
     "name": "stdout",
     "output_type": "stream",
     "text": [
      "Velocidad: 30; dirección: Izquierda\n",
      "Moto de color naranja y con cilindrada 2\n",
      "Velocidad: 40; dirección: Derecha\n",
      "Auto de color rojo y con cilindrada 4\n"
     ]
    }
   ],
   "source": [
    "class Vehiculo():\n",
    "    def __init__(self, color, cilindrada, tipo):\n",
    "        self.color = color\n",
    "        self.cilindrada = cilindrada\n",
    "        self.tipo = tipo\n",
    "        self.velocidad = 0\n",
    "\n",
    "    def acelerar(self):\n",
    "        self.velocidad += 10\n",
    "\n",
    "    def frenar(self):\n",
    "        self.velocidad -= 10\n",
    "    \n",
    "    def doblar(self, lado):\n",
    "        self.lado = lado\n",
    "\n",
    "    def estado(self):\n",
    "        return \"Velocidad: \" + str(self.velocidad) + \"; dirección: \" + self.lado\n",
    "    \n",
    "    def describe(self):\n",
    "        return self.tipo + \" de color \" + self.color + \" y con cilindrada \" + str(self.cilindrada)\n",
    "    \n",
    "moto = Vehiculo(\"naranja\", 2, \"Moto\")\n",
    "auto = Vehiculo(\"rojo\", 4, \"Auto\")\n",
    "\n",
    "moto.acelerar()\n",
    "moto.acelerar()\n",
    "moto.acelerar()\n",
    "moto.doblar(\"Izquierda\")\n",
    "print(moto.estado())\n",
    "print(moto.describe())\n",
    "\n",
    "auto.acelerar()\n",
    "auto.acelerar()\n",
    "auto.acelerar()\n",
    "auto.acelerar()\n",
    "auto.acelerar()\n",
    "auto.frenar()\n",
    "auto.doblar(\"Izquierda\")\n",
    "auto.doblar(\"Derecha\")\n",
    "print(auto.estado())\n",
    "print(auto.describe())"
   ]
  },
  {
   "attachments": {},
   "cell_type": "markdown",
   "metadata": {},
   "source": [
    "5) Crear una clase que permita utilizar las funciones creadas en la práctica del módulo 7<br>\n",
    "Verificar Primo<br>\n",
    "Valor modal<br>\n",
    "Conversión grados<br>\n",
    "Factorial<br>"
   ]
  },
  {
   "cell_type": "code",
   "execution_count": 13,
   "metadata": {},
   "outputs": [],
   "source": [
    "class Matematica():\n",
    "    def __init__(self):\n",
    "        self.numero = 1\n",
    "\n",
    "    def verifica_primo(self, nro):\n",
    "        es_primo = True\n",
    "        for i in range(2, nro):\n",
    "            if nro % i == 0:\n",
    "                es_primo = False\n",
    "                break\n",
    "        return es_primo\n",
    "    \n",
    "    def valor_modal(self, lista):\n",
    "        lista_unicos = []\n",
    "        lista_repeticiones = []\n",
    "        if len(lista) == 0:\n",
    "            return None\n",
    "        for elemento in lista:\n",
    "            if elemento in lista_unicos:\n",
    "                i = lista_unicos.index(elemento)\n",
    "                lista_repeticiones[i] += 1\n",
    "            else:\n",
    "                lista_unicos.append(elemento)\n",
    "                lista_repeticiones.append(1)\n",
    "        moda = lista_unicos[0]\n",
    "        maximo = lista_repeticiones[0]\n",
    "        for i, elemento in enumerate(lista_unicos):\n",
    "            if lista_repeticiones[i] > maximo:\n",
    "                moda = lista_unicos[i]\n",
    "                maximo = lista_repeticiones[i]\n",
    "        return moda, maximo\n",
    "    \n",
    "    def conversion_grados(self, valor, origen, destino):\n",
    "        if (origen == 'celsius'):\n",
    "            if (destino == 'celsius'):\n",
    "                valor_destino = valor\n",
    "            elif (destino == 'farenheit'):\n",
    "                valor_destino = (valor * 9 / 5) + 32\n",
    "            elif (destino == 'kelvin'):\n",
    "                valor_destino = valor + 273.15\n",
    "            else:\n",
    "                print('Parámetro de Destino incorrecto')\n",
    "        elif (origen == 'farenheit'):\n",
    "            if (destino == 'celsius'):\n",
    "                valor_destino = (valor - 32) * 5 / 9\n",
    "            elif (destino == 'farenheit'):\n",
    "                valor_destino = valor\n",
    "            elif (destino == 'kelvin'):\n",
    "                valor_destino = ((valor - 32) * 5 / 9) + 273.15\n",
    "            else:\n",
    "                print('Parámetro de Destino incorrecto')\n",
    "        elif (origen == 'kelvin'):\n",
    "            if (destino == 'celsius'):\n",
    "                valor_destino = valor - 273.15\n",
    "            elif (destino == 'farenheit'):\n",
    "                valor_destino = ((valor - 273.15) * 9 / 5) + 32\n",
    "            elif (destino == 'kelvin'):\n",
    "                valor_destino = valor\n",
    "            else:\n",
    "                print('Parámetro de Destino incorrecto')\n",
    "        else:\n",
    "            print('Parámetro de Origen incorrecto')\n",
    "        return valor_destino\n",
    "\n",
    "    def factorial(self, numero):\n",
    "        if(type(numero) != int):\n",
    "            return 'El numero debe ser un entero'\n",
    "        if(numero < 0):\n",
    "            return 'El numero debe ser pisitivo'\n",
    "        if (numero > 1):\n",
    "            self.numero = numero * self.factorial(numero - 1)\n",
    "        return self.numero\n"
   ]
  },
  {
   "attachments": {},
   "cell_type": "markdown",
   "metadata": {},
   "source": [
    "6) Probar las funciones incorporadas en la clase del punto 5"
   ]
  },
  {
   "cell_type": "code",
   "execution_count": 14,
   "metadata": {},
   "outputs": [
    {
     "name": "stdout",
     "output_type": "stream",
     "text": [
      "True\n",
      "(5, 3)\n",
      "306.15\n",
      "120\n"
     ]
    }
   ],
   "source": [
    "obj1 = Matematica()\n",
    "\n",
    "print(obj1.verifica_primo(23))\n",
    "print(obj1.valor_modal([1,1,5,6,8,10,22,5,6,4,11,9,5]))\n",
    "print(obj1.conversion_grados(33, \"celsius\", \"kelvin\"))\n",
    "print(obj1.factorial(5))"
   ]
  },
  {
   "attachments": {},
   "cell_type": "markdown",
   "metadata": {},
   "source": [
    "7) Es necesario que la clase creada en el punto 5 contenga una lista, sobre la cual se apliquen las funciones incorporadas"
   ]
  },
  {
   "cell_type": "code",
   "execution_count": null,
   "metadata": {},
   "outputs": [],
   "source": [
    "class Matematica():\n",
    "    def __init__(self, lista_numeros):\n",
    "        self.lista_numeros = lista_numeros\n",
    "        self.numero = 1\n",
    "\n",
    "    def verifica_primo(self):\n",
    "        for i in self.lista_numeros:\n",
    "            if self.__verifica_primo(i):\n",
    "                print(\"El número \" + str(i) + \" es primo\")\n",
    "            else:\n",
    "                print(\"El número \" + str(i) + \" NO es primo\")\n",
    "            \n",
    "    def conversion_grados(self):\n",
    "        lista_gra = [\"celsius\", \"farenheit\", \"kelvin\"]\n",
    "        for y in self.lista_numeros:\n",
    "            for i in lista_gra:\n",
    "                for j in lista_gra:\n",
    "                    if i != j:\n",
    "                        print(\"De \" + str(y) + \" \" + i + \" a \" + j + \" es igual a\", self.__conversion_grados(y, i, j))\n",
    "\n",
    "    def factorial(self):\n",
    "        for i in self.lista_numeros:\n",
    "            print(\"Factorial de \" + str(i) + \": \" + self.__factorial(i))\n",
    "\n",
    "    def __verifica_primo(self, nro):\n",
    "        es_primo = True\n",
    "        for i in range(2, nro):\n",
    "            if nro % i == 0:\n",
    "                es_primo = False\n",
    "                break\n",
    "        return es_primo\n",
    "    \n",
    "    def valor_modal(self, lista):\n",
    "        lista_unicos = []\n",
    "        lista_repeticiones = []\n",
    "        if len(lista) == 0:\n",
    "            return None\n",
    "        for elemento in lista:\n",
    "            if elemento in lista_unicos:\n",
    "                i = lista_unicos.index(elemento)\n",
    "                lista_repeticiones[i] += 1\n",
    "            else:\n",
    "                lista_unicos.append(elemento)\n",
    "                lista_repeticiones.append(1)\n",
    "        moda = lista_unicos[0]\n",
    "        maximo = lista_repeticiones[0]\n",
    "        for i, elemento in enumerate(lista_unicos):\n",
    "            if lista_repeticiones[i] > maximo:\n",
    "                moda = lista_unicos[i]\n",
    "                maximo = lista_repeticiones[i]\n",
    "        return moda, maximo\n",
    "    \n",
    "    def __conversion_grados(self, valor, origen, destino):\n",
    "        if (origen == 'celsius'):\n",
    "            if (destino == 'celsius'):\n",
    "                valor_destino = valor\n",
    "            elif (destino == 'farenheit'):\n",
    "                valor_destino = (valor * 9 / 5) + 32\n",
    "            elif (destino == 'kelvin'):\n",
    "                valor_destino = valor + 273.15\n",
    "            else:\n",
    "                print('Parámetro de Destino incorrecto')\n",
    "        elif (origen == 'farenheit'):\n",
    "            if (destino == 'celsius'):\n",
    "                valor_destino = (valor - 32) * 5 / 9\n",
    "            elif (destino == 'farenheit'):\n",
    "                valor_destino = valor\n",
    "            elif (destino == 'kelvin'):\n",
    "                valor_destino = ((valor - 32) * 5 / 9) + 273.15\n",
    "            else:\n",
    "                print('Parámetro de Destino incorrecto')\n",
    "        elif (origen == 'kelvin'):\n",
    "            if (destino == 'celsius'):\n",
    "                valor_destino = valor - 273.15\n",
    "            elif (destino == 'farenheit'):\n",
    "                valor_destino = ((valor - 273.15) * 9 / 5) + 32\n",
    "            elif (destino == 'kelvin'):\n",
    "                valor_destino = valor\n",
    "            else:\n",
    "                print('Parámetro de Destino incorrecto')\n",
    "        else:\n",
    "            print('Parámetro de Origen incorrecto')\n",
    "        return valor_destino\n",
    "\n",
    "    def __factorial(self, numero):\n",
    "        if(type(numero) != int):\n",
    "            return 'El numero debe ser un entero'\n",
    "        if(numero < 0):\n",
    "            return 'El numero debe ser pisitivo'\n",
    "        if (numero > 1):\n",
    "            self.numero = numero * self.factorial(numero - 1)\n",
    "        return self.numero"
   ]
  },
  {
   "attachments": {},
   "cell_type": "markdown",
   "metadata": {},
   "source": [
    "8) Crear un archivo .py aparte y ubicar allí la clase generada en el punto anterior. Luego realizar la importación del módulo y probar alguna de sus funciones"
   ]
  },
  {
   "cell_type": "code",
   "execution_count": 20,
   "metadata": {},
   "outputs": [
    {
     "data": {
      "text/plain": [
       "(5, 3)"
      ]
     },
     "execution_count": 20,
     "metadata": {},
     "output_type": "execute_result"
    }
   ],
   "source": [
    "from archivo import Matematica\n",
    "\n",
    "lis_num = [1,1,5,6,8,10,22,5,6,4,11,9,5]\n",
    "\n",
    "obj1 = Matematica(lis_num)\n",
    "\n",
    "obj1.valor_modal(lis_num)"
   ]
  }
 ],
 "metadata": {
  "interpreter": {
   "hash": "c85384e4cb51c8b72350f3a8712cc8351fdc3955e32a27f9b60c6242ab125f01"
  },
  "kernelspec": {
   "display_name": "Python 3 (ipykernel)",
   "language": "python",
   "name": "python3"
  },
  "language_info": {
   "codemirror_mode": {
    "name": "ipython",
    "version": 3
   },
   "file_extension": ".py",
   "mimetype": "text/x-python",
   "name": "python",
   "nbconvert_exporter": "python",
   "pygments_lexer": "ipython3",
   "version": "3.10.12"
  }
 },
 "nbformat": 4,
 "nbformat_minor": 4
}
