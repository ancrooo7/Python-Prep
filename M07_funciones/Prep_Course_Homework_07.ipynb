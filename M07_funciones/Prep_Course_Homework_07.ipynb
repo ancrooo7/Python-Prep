{
 "cells": [
  {
   "attachments": {},
   "cell_type": "markdown",
   "metadata": {},
   "source": [
    "## Funciones"
   ]
  },
  {
   "attachments": {},
   "cell_type": "markdown",
   "metadata": {},
   "source": [
    "1) Crear una función que reciba un número como parámetro y devuelva True si es primo y False si no lo es"
   ]
  },
  {
   "cell_type": "code",
   "execution_count": 3,
   "metadata": {},
   "outputs": [
    {
     "data": {
      "text/plain": [
       "False"
      ]
     },
     "execution_count": 3,
     "metadata": {},
     "output_type": "execute_result"
    }
   ],
   "source": [
    "def num_primo(numero):\n",
    "    div = 0\n",
    "    for i in range(2, numero):\n",
    "        if numero % i == 0:\n",
    "            div += 1\n",
    "            break\n",
    "    if div == 0:\n",
    "        return True\n",
    "    else:\n",
    "        return False\n",
    "    \n",
    "num_primo(25)"
   ]
  },
  {
   "attachments": {},
   "cell_type": "markdown",
   "metadata": {},
   "source": [
    "2) Utilizando la función del punto 1, realizar otra función que reciba de parámetro una lista de números y devuelva sólo aquellos que son primos en otra lista"
   ]
  },
  {
   "cell_type": "code",
   "execution_count": 4,
   "metadata": {},
   "outputs": [
    {
     "data": {
      "text/plain": [
       "[3, 5, 7, 2, 11, 53]"
      ]
     },
     "execution_count": 4,
     "metadata": {},
     "output_type": "execute_result"
    }
   ],
   "source": [
    "def num_primio_lista(lista):\n",
    "    lista_de_primos = []\n",
    "    for i in lista:\n",
    "        if num_primo(i):\n",
    "            lista_de_primos.append(i)\n",
    "\n",
    "    return lista_de_primos\n",
    "\n",
    "num_primio_lista([3, 4, 5, 7, 2, 11, 53, 34, 123])"
   ]
  },
  {
   "attachments": {},
   "cell_type": "markdown",
   "metadata": {},
   "source": [
    "3) Crear una función que al recibir una lista de números, devuelva el que más se repite y cuántas veces lo hace. Si hay más de un \"más repetido\", que devuelva cualquiera"
   ]
  },
  {
   "cell_type": "code",
   "execution_count": 4,
   "metadata": {},
   "outputs": [
    {
     "data": {
      "text/plain": [
       "(4, 5)"
      ]
     },
     "execution_count": 4,
     "metadata": {},
     "output_type": "execute_result"
    }
   ],
   "source": [
    "lista_numeros_rep = [2, 43, 4, 6, 7, 4, 2, 4, 6, 8, 67, 1, 2, 7, 8, 2, 0, 4, 4]\n",
    "\n",
    "def mas_repetido_lista(lista):\n",
    "    index = 0\n",
    "    count_num_antes = 0\n",
    "    count_num_despues = 0\n",
    "    respuesta = lista[index]\n",
    "\n",
    "    while index < len(lista):\n",
    "        num = lista[index]\n",
    "        for i in lista:\n",
    "            if i == num:\n",
    "                count_num_despues += 1\n",
    "        if count_num_antes < count_num_despues:\n",
    "            respuesta = num\n",
    "            count_num_antes = count_num_despues\n",
    "        \n",
    "        count_num_despues = 0\n",
    "        index += 1\n",
    "\n",
    "    return respuesta, count_num_antes\n",
    "\n",
    "mas_repetido_lista(lista_numeros_rep)"
   ]
  },
  {
   "attachments": {},
   "cell_type": "markdown",
   "metadata": {},
   "source": [
    "4) Crear una función que convierta entre grados Celsius, Farenheit y Kelvin<br>\n",
    "Fórmula 1\t: (°C × 9/5) + 32 = °F<br>\n",
    "Fórmula 2\t: °C + 273.15 = °K<br>\n",
    "Debe recibir 3 parámetros: el valor, la medida de orígen y la medida de destino\n"
   ]
  },
  {
   "cell_type": "code",
   "execution_count": 10,
   "metadata": {},
   "outputs": [
    {
     "data": {
      "text/plain": [
       "91.4"
      ]
     },
     "execution_count": 10,
     "metadata": {},
     "output_type": "execute_result"
    }
   ],
   "source": [
    "def Grados_C_F_K(value, origin, final):\n",
    "    if origin == \"celsius\":\n",
    "        if final == \"farenheit\":\n",
    "            return (float(value) * 9/5) + 32\n",
    "        elif final == \"kelvin\":\n",
    "            return float(value) + 273.15\n",
    "        else:\n",
    "            return \"La midida de salida esta mal escrita o con mayusculas. Corriga e intente nuevamete\" \n",
    "    elif origin == \"farenheit\":\n",
    "        if final == \"celsius\":\n",
    "            return (float(value) - 32) / (9/5)\n",
    "        elif final == \"kelvin\":\n",
    "            return ((float(value) - 32) / (9/5)) + 273.15\n",
    "        else:\n",
    "            return \"La midida de salida esta mal escrita o con mayusculas. Corriga e intente nuevamete\"\n",
    "    elif origin == \"kelvin\":\n",
    "        if final == \"celsius\":\n",
    "            return float(value) - 273.15\n",
    "        elif final == \"farenheit\":\n",
    "            return ((float(value) - 273.15) * 9/5) + 32\n",
    "        else:\n",
    "            return \"La midida de salida esta mal escrita o con mayusculas. Corriga e intente nuevamete\"\n",
    "    else:\n",
    "        return \"La midida de origen esta mal escrita o con mayusculas. Corriga e intente nuevamete\"\n",
    "    \n",
    "Grados_C_F_K(33, \"celsius\", \"farenheit\")"
   ]
  },
  {
   "attachments": {},
   "cell_type": "markdown",
   "metadata": {},
   "source": [
    "5) Iterando una lista con los tres valores posibles de temperatura que recibe la función del punto 5, hacer un print para cada combinación de los mismos:"
   ]
  },
  {
   "cell_type": "code",
   "execution_count": 13,
   "metadata": {},
   "outputs": [
    {
     "name": "stdout",
     "output_type": "stream",
     "text": [
      "De 33 celsius a farenheit es igual a 91.4\n",
      "De 33 celsius a kelvin es igual a 306.15\n",
      "De 33 farenheit a celsius es igual a 0.5555555555555556\n",
      "De 33 farenheit a kelvin es igual a 273.7055555555555\n",
      "De 33 kelvin a celsius es igual a -240.14999999999998\n",
      "De 33 kelvin a farenheit es igual a -400.27\n"
     ]
    }
   ],
   "source": [
    "def colocar_grado_solo(value):\n",
    "    lista_gra = [\"celsius\", \"farenheit\", \"kelvin\"]\n",
    "    for i in lista_gra:\n",
    "        for j in lista_gra:\n",
    "            if i != j:\n",
    "                print(\"De \" + str(value) + \" \" + i + \" a \" + j + \" es igual a\", Grados_C_F_K(value, i, j))\n",
    "            \n",
    "colocar_grado_solo(33)"
   ]
  },
  {
   "attachments": {},
   "cell_type": "markdown",
   "metadata": {},
   "source": [
    "6) Armar una función que devuelva el factorial de un número. Tener en cuenta que el usuario puede equivocarse y enviar de parámetro un número no entero o negativo"
   ]
  },
  {
   "cell_type": "code",
   "execution_count": 20,
   "metadata": {},
   "outputs": [
    {
     "data": {
      "text/plain": [
       "87178291200"
      ]
     },
     "execution_count": 20,
     "metadata": {},
     "output_type": "execute_result"
    }
   ],
   "source": [
    "def factorial_Num(value):\n",
    "    numero_F = int(value) + 1\n",
    "    respu = 1\n",
    "\n",
    "    for i in range(1, numero_F):\n",
    "        respu *= i\n",
    "\n",
    "    return respu\n",
    "\n",
    "factorial_Num(14)"
   ]
  }
 ],
 "metadata": {
  "interpreter": {
   "hash": "c85384e4cb51c8b72350f3a8712cc8351fdc3955e32a27f9b60c6242ab125f01"
  },
  "kernelspec": {
   "display_name": "Python 3 (ipykernel)",
   "language": "python",
   "name": "python3"
  },
  "language_info": {
   "codemirror_mode": {
    "name": "ipython",
    "version": 3
   },
   "file_extension": ".py",
   "mimetype": "text/x-python",
   "name": "python",
   "nbconvert_exporter": "python",
   "pygments_lexer": "ipython3",
   "version": "3.10.12"
  }
 },
 "nbformat": 4,
 "nbformat_minor": 4
}
