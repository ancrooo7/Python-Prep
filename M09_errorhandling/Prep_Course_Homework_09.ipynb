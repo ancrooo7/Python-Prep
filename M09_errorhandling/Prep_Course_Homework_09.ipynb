{
 "cells": [
  {
   "attachments": {},
   "cell_type": "markdown",
   "metadata": {},
   "source": [
    "## Manejo de errores"
   ]
  },
  {
   "attachments": {},
   "cell_type": "markdown",
   "metadata": {},
   "source": [
    "1) Con la clase creada en el módulo 7, tener en cuenta diferentes casos en que el código pudiera arrojar error. Por ejemplo, en la creación del objeto recibimos una lista de números enteros pero ¿qué pasa si se envía otro tipo de dato?"
   ]
  },
  {
   "cell_type": "code",
   "execution_count": 23,
   "metadata": {},
   "outputs": [
    {
     "name": "stdout",
     "output_type": "stream",
     "text": [
      "OK\n"
     ]
    }
   ],
   "source": [
    "import sys\n",
    "\n",
    "sys.path.append(\"/home/ancroo7/Documents/Code_of_Programs/HENRY/Python-Prep/M09_errorhandling/herramientas.py\")\n",
    "\n",
    "from herramientas import Herramientas\n",
    "\n",
    "lista_enteros = [34,4,5,6,3,87,3,2,5,7,5,3,5,67,87,4,3,3,6,6,4,323]\n",
    "\n",
    "\n",
    "def prueba_lista_de_enteros(lista_E):\n",
    "\n",
    "    for i in lista_enteros:\n",
    "        assert type(i) == int, \"Se necesita que sean todos enteros\"\n",
    "        assert i > 0, \"Se necesita que sean mayores a cero\"\n",
    "\n",
    "    return \"OK\"\n",
    "\n",
    "print(prueba_lista_de_enteros(lista_enteros))\n",
    "    \n",
    "    "
   ]
  },
  {
   "attachments": {},
   "cell_type": "markdown",
   "metadata": {},
   "source": [
    "2) En la función que hace la conversión de grados, validar que los parámetros enviados sean los esperados, de no serlo, informar cuáles son los valores esperados."
   ]
  },
  {
   "cell_type": "code",
   "execution_count": 22,
   "metadata": {},
   "outputs": [
    {
     "name": "stdout",
     "output_type": "stream",
     "text": [
      "OK\n"
     ]
    }
   ],
   "source": [
    "def prueba_nombres_de_grados(origen, destino):\n",
    "    \n",
    "    assert type(origen) == str, \"Se necesita tipo de dato str en el origen\"\n",
    "    assert type(destino) == str, \"Se necesita tipo de dato str en el destino\"\n",
    "\n",
    "    assert origen == \"celsius\" or origen == \"fahrenheit\" or origen == \"kelvin\", \"Escriba bien la entrada (celsius o fahrenheit o kelvin)\"\n",
    "    assert destino == \"celsius\" or destino == \"fahrenheit\" or destino == \"kelvin\", \"Escriba bien la salida (celsius o fahrenheit o kelvin)\"\n",
    "\n",
    "    return \"OK\"\n",
    "\n",
    "print(prueba_nombres_de_grados(\"celsius\", \"fahrenheit\"))"
   ]
  },
  {
   "attachments": {},
   "cell_type": "markdown",
   "metadata": {},
   "source": [
    "3) Importar el modulo \"unittest\" y crear los siguientes casos de pruebas sobre la clase utilizada en el punto 2<br>\n",
    "Creacion del objeto incorrecta<br>\n",
    "Creacion correcta del objeto<br>\n",
    "Metodo valor_modal()<br>\n",
    "\n",
    "Se puede usar \"raise ValueError()\" en la creación de la clase para verificar el error. Investigar sobre esta funcionalidad."
   ]
  },
  {
   "cell_type": "code",
   "execution_count": 30,
   "metadata": {},
   "outputs": [],
   "source": [
    "import unittest\n",
    "\n",
    "obj_1 = Herramientas(lista_enteros)\n",
    "obj_2 = []\n",
    "\n",
    "class CajaNegraTest(unittest.TestCase):\n",
    "    \n",
    "    def test_es_Herramientas(self):\n",
    "\n",
    "        resultado = type(obj_1)\n",
    "\n",
    "        self.assertEqual(resultado, Herramientas)\n",
    "    \n",
    "    def test_no_es_Herramientas(self):\n",
    "        \n",
    "        resultado = type(obj_2)\n",
    "\n",
    "        if resultado != Herramientas:\n",
    "            raise ValueError(\"No es un objeto derivado de la clase Herramientas\")\n",
    "\n",
    "    def test_modal_salida(self):\n",
    "        \n",
    "        resultado = obj_1.valor_modal(False)\n",
    "\n",
    "        self.assertEqual(resultado, (3, 5))\n",
    "\n"
   ]
  },
  {
   "attachments": {},
   "cell_type": "markdown",
   "metadata": {},
   "source": [
    "4) Probar una creación incorrecta y visualizar la salida del \"raise\""
   ]
  },
  {
   "cell_type": "code",
   "execution_count": 31,
   "metadata": {},
   "outputs": [
    {
     "name": "stderr",
     "output_type": "stream",
     "text": [
      "test_es_Herramientas (__main__.CajaNegraTest) ... ok\n",
      "test_modal_salida (__main__.CajaNegraTest) ... ok\n",
      "test_no_es_Herramientas (__main__.CajaNegraTest) ... ERROR\n",
      "\n",
      "======================================================================\n",
      "ERROR: test_no_es_Herramientas (__main__.CajaNegraTest)\n",
      "----------------------------------------------------------------------\n",
      "Traceback (most recent call last):\n",
      "  File \"/tmp/ipykernel_18845/3309853678.py\", line 19, in test_no_es_Herramientas\n",
      "    raise ValueError(\"No es un objeto derivado de la clase Herramientas\")\n",
      "ValueError: No es un objeto derivado de la clase Herramientas\n",
      "\n",
      "----------------------------------------------------------------------\n",
      "Ran 3 tests in 0.013s\n",
      "\n",
      "FAILED (errors=1)\n"
     ]
    },
    {
     "data": {
      "text/plain": [
       "<unittest.main.TestProgram at 0x7fc558f4af20>"
      ]
     },
     "execution_count": 31,
     "metadata": {},
     "output_type": "execute_result"
    }
   ],
   "source": [
    "unittest.main(argv=[''], verbosity=2, exit=False)"
   ]
  },
  {
   "attachments": {},
   "cell_type": "markdown",
   "metadata": {},
   "source": [
    "6) Agregar casos de pruebas para el método verifica_primos() realizando el cambio en la clase, para que devuelva una lista de True o False en función de que el elemento en la posisicón sea o no primo"
   ]
  },
  {
   "cell_type": "code",
   "execution_count": 46,
   "metadata": {},
   "outputs": [],
   "source": [
    "obj_3 = Herramientas([3, 42, 4, 83])\n",
    "\n",
    "class CajaNegraTest(unittest.TestCase):\n",
    "    \n",
    "    def test_es_Herramientas(self):\n",
    "\n",
    "        resultado = type(obj_1)\n",
    "\n",
    "        self.assertEqual(resultado, Herramientas)\n",
    "    \n",
    "    def test_no_es_Herramientas(self):\n",
    "        \n",
    "        resultado = type(obj_2)\n",
    "\n",
    "        if resultado != Herramientas:\n",
    "            raise ValueError(\"No es un objeto derivado de la clase Herramientas\")\n",
    "\n",
    "    def test_modal_salida(self):\n",
    "        \n",
    "        resultado = obj_1.valor_modal(False)\n",
    "\n",
    "        self.assertEqual(resultado, (3, 5))\n",
    "\n",
    "    def test_primo_salida(self):\n",
    "\n",
    "        resultado = obj_3.verifica_primo()\n",
    "\n",
    "        self.assertEqual(resultado, [True, False, False, True])\n"
   ]
  },
  {
   "attachments": {},
   "cell_type": "markdown",
   "metadata": {},
   "source": [
    "7) Agregar casos de pruebas para el método conversion_grados()"
   ]
  },
  {
   "cell_type": "code",
   "execution_count": 44,
   "metadata": {},
   "outputs": [],
   "source": [
    "class CajaNegraTest(unittest.TestCase):\n",
    "    \n",
    "    def test_es_Herramientas(self):\n",
    "\n",
    "        resultado = type(obj_1)\n",
    "\n",
    "        self.assertEqual(resultado, Herramientas)\n",
    "    \n",
    "    def test_no_es_Herramientas(self):\n",
    "        \n",
    "        resultado = type(obj_2)\n",
    "\n",
    "        if resultado != Herramientas:\n",
    "            raise ValueError(\"No es un objeto derivado de la clase Herramientas\")\n",
    "\n",
    "    def test_modal_salida(self):\n",
    "        \n",
    "        resultado = obj_1.valor_modal(False)\n",
    "\n",
    "        self.assertEqual(resultado, (3, 5))\n",
    "\n",
    "    def test_primo_salida(self):\n",
    "\n",
    "        resultado = obj_3.verifica_primo()\n",
    "\n",
    "        self.assertEqual(resultado, [True, False, False, True])\n",
    "\n",
    "    def test_grados_salida(self):\n",
    "\n",
    "        lIsTa = [34, 76]\n",
    "\n",
    "        lista_gra = [\"celsius\", \"farenheit\", \"kelvin\"]\n",
    "\n",
    "        lista_salida = []\n",
    "\n",
    "        objeto = Herramientas(lIsTa)\n",
    "\n",
    "        for i in lista_gra:\n",
    "            for j in lista_gra:\n",
    "                if i != j:\n",
    "                    lista_salida.append(objeto.conversion_grados(i, j))\n",
    "        \n",
    "        self.assertEqual(lista_salida, [[93.2, 168.8], [307.15, 349.15], [1.1111111111111112, 24.444444444444443], [274.26111111111106, 297.59444444444443], [-239.14999999999998, -197.14999999999998], [-398.46999999999997, -322.87]])\n"
   ]
  },
  {
   "attachments": {},
   "cell_type": "markdown",
   "metadata": {},
   "source": [
    "8) Agregar casos de pruebas para el método factorial()"
   ]
  },
  {
   "cell_type": "code",
   "execution_count": 49,
   "metadata": {},
   "outputs": [],
   "source": [
    "class CajaNegraTest(unittest.TestCase):\n",
    "    \n",
    "    def test_es_Herramientas(self):\n",
    "\n",
    "        resultado = type(obj_1)\n",
    "\n",
    "        self.assertEqual(resultado, Herramientas)\n",
    "    \n",
    "    def test_no_es_Herramientas(self):\n",
    "        \n",
    "        resultado = type(obj_2)\n",
    "\n",
    "        if resultado != Herramientas:\n",
    "            raise ValueError(\"No es un objeto derivado de la clase Herramientas\")\n",
    "\n",
    "    def test_modal_salida(self):\n",
    "        \n",
    "        resultado = obj_1.valor_modal(False)\n",
    "\n",
    "        self.assertEqual(resultado, (3, 5))\n",
    "\n",
    "    def test_primo_salida(self):\n",
    "\n",
    "        resultado = obj_3.verifica_primo()\n",
    "\n",
    "        self.assertEqual(resultado, [True, False, False, True])\n",
    "\n",
    "    def test_grados_salida(self):\n",
    "\n",
    "        lIsTa = [34, 76]\n",
    "\n",
    "        lista_gra = [\"celsius\", \"farenheit\", \"kelvin\"]\n",
    "\n",
    "        lista_salida = []\n",
    "\n",
    "        objeto = Herramientas(lIsTa)\n",
    "\n",
    "        for i in lista_gra:\n",
    "            for j in lista_gra:\n",
    "                if i != j:\n",
    "                    lista_salida.append(objeto.conversion_grados(i, j))\n",
    "        \n",
    "        self.assertEqual(lista_salida, [[93.2, 168.8], [307.15, 349.15], [1.1111111111111112, 24.444444444444443], [274.26111111111106, 297.59444444444443], [-239.14999999999998, -197.14999999999998], [-398.46999999999997, -322.87]])\n",
    "\n",
    "    def test_factorial_salida(self):\n",
    "        \n",
    "        lIsTa = [7, 11]\n",
    "\n",
    "        objeto = Herramientas(lIsTa)\n",
    "\n",
    "        resultado = objeto.factorial()\n",
    "\n",
    "        self.assertEqual(resultado, [5040, 39916800])"
   ]
  },
  {
   "cell_type": "code",
   "execution_count": 50,
   "metadata": {},
   "outputs": [
    {
     "name": "stderr",
     "output_type": "stream",
     "text": [
      "test_es_Herramientas (__main__.CajaNegraTest) ... ok\n",
      "test_factorial_salida (__main__.CajaNegraTest) ... ok\n",
      "test_grados_salida (__main__.CajaNegraTest) ... ok\n",
      "test_modal_salida (__main__.CajaNegraTest) ... ok\n",
      "test_no_es_Herramientas (__main__.CajaNegraTest) ... ERROR\n",
      "test_primo_salida (__main__.CajaNegraTest) ... ok\n",
      "\n",
      "======================================================================\n",
      "ERROR: test_no_es_Herramientas (__main__.CajaNegraTest)\n",
      "----------------------------------------------------------------------\n",
      "Traceback (most recent call last):\n",
      "  File \"/tmp/ipykernel_18845/3725125461.py\", line 14, in test_no_es_Herramientas\n",
      "    raise ValueError(\"No es un objeto derivado de la clase Herramientas\")\n",
      "ValueError: No es un objeto derivado de la clase Herramientas\n",
      "\n",
      "----------------------------------------------------------------------\n",
      "Ran 6 tests in 0.017s\n",
      "\n",
      "FAILED (errors=1)\n"
     ]
    },
    {
     "data": {
      "text/plain": [
       "<unittest.main.TestProgram at 0x7fc558f59150>"
      ]
     },
     "execution_count": 50,
     "metadata": {},
     "output_type": "execute_result"
    }
   ],
   "source": [
    "unittest.main(argv=[''], verbosity=2, exit=False)"
   ]
  },
  {
   "cell_type": "code",
   "execution_count": null,
   "metadata": {},
   "outputs": [],
   "source": []
  }
 ],
 "metadata": {
  "interpreter": {
   "hash": "c85384e4cb51c8b72350f3a8712cc8351fdc3955e32a27f9b60c6242ab125f01"
  },
  "kernelspec": {
   "display_name": "Python 3 (ipykernel)",
   "language": "python",
   "name": "python3"
  },
  "language_info": {
   "codemirror_mode": {
    "name": "ipython",
    "version": 3
   },
   "file_extension": ".py",
   "mimetype": "text/x-python",
   "name": "python",
   "nbconvert_exporter": "python",
   "pygments_lexer": "ipython3",
   "version": "3.10.12"
  }
 },
 "nbformat": 4,
 "nbformat_minor": 4
}
