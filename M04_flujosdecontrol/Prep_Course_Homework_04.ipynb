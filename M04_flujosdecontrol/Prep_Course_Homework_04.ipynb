{
 "cells": [
  {
   "attachments": {},
   "cell_type": "markdown",
   "metadata": {},
   "source": [
    "## Flujos de Control"
   ]
  },
  {
   "attachments": {},
   "cell_type": "markdown",
   "metadata": {},
   "source": [
    "1) Crear una variable que contenga un elemento del conjunto de números enteros y luego imprimir por pantalla si es mayor o menor a cero"
   ]
  },
  {
   "cell_type": "code",
   "execution_count": 1,
   "metadata": {},
   "outputs": [
    {
     "name": "stdout",
     "output_type": "stream",
     "text": [
      "Es mayor a 0\n"
     ]
    }
   ],
   "source": [
    "a =  4\n",
    "if a > 0:\n",
    "    print(\"Es mayor a 0\")\n",
    "else:\n",
    "    print(\"Es menor a 0\")"
   ]
  },
  {
   "attachments": {},
   "cell_type": "markdown",
   "metadata": {},
   "source": [
    "2) Crear dos variables y un condicional que informe si son del mismo tipo de dato"
   ]
  },
  {
   "cell_type": "code",
   "execution_count": 2,
   "metadata": {},
   "outputs": [
    {
     "name": "stdout",
     "output_type": "stream",
     "text": [
      "Son de diferente tipo\n"
     ]
    }
   ],
   "source": [
    "b = 2\n",
    "c = \"2\"\n",
    "\n",
    "if type(b) == type(c):\n",
    "    print(\"Son del mismo tipo\")\n",
    "else:\n",
    "    print(\"Son de diferente tipo\")"
   ]
  },
  {
   "attachments": {},
   "cell_type": "markdown",
   "metadata": {},
   "source": [
    "3) Para los valores enteros del 1 al 20, imprimir por pantalla si es par o impar"
   ]
  },
  {
   "cell_type": "code",
   "execution_count": 4,
   "metadata": {},
   "outputs": [
    {
     "name": "stdout",
     "output_type": "stream",
     "text": [
      "1  es impar\n",
      "2  es par\n",
      "3  es impar\n",
      "4  es par\n",
      "5  es impar\n",
      "6  es par\n",
      "7  es impar\n",
      "8  es par\n",
      "9  es impar\n",
      "10  es par\n",
      "11  es impar\n",
      "12  es par\n",
      "13  es impar\n",
      "14  es par\n",
      "15  es impar\n",
      "16  es par\n",
      "17  es impar\n",
      "18  es par\n",
      "19  es impar\n",
      "20  es par\n"
     ]
    }
   ],
   "source": [
    "for i in range(1, 21):\n",
    "    if i % 2 == 0:\n",
    "        print(i, \" es par\")\n",
    "    else:\n",
    "        print(i, \" es impar\")"
   ]
  },
  {
   "attachments": {},
   "cell_type": "markdown",
   "metadata": {},
   "source": [
    "4) En un ciclo for mostrar para los valores entre 0 y 5 el resultado de elevarlo a la potencia igual a 3"
   ]
  },
  {
   "cell_type": "code",
   "execution_count": 6,
   "metadata": {},
   "outputs": [
    {
     "name": "stdout",
     "output_type": "stream",
     "text": [
      "0\n",
      "1\n",
      "8\n",
      "27\n",
      "64\n",
      "125\n"
     ]
    }
   ],
   "source": [
    "for i in range(0, 6):\n",
    "    print(i**3)"
   ]
  },
  {
   "attachments": {},
   "cell_type": "markdown",
   "metadata": {},
   "source": [
    "5) Crear una variable que contenga un número entero y realizar un ciclo for la misma cantidad de ciclos"
   ]
  },
  {
   "cell_type": "code",
   "execution_count": 9,
   "metadata": {},
   "outputs": [
    {
     "name": "stdout",
     "output_type": "stream",
     "text": [
      "D0S\n",
      "D1S\n",
      "D2S\n",
      "D3S\n",
      "D4S\n",
      "D5S\n",
      "D6S\n",
      "D7S\n",
      "D8S\n",
      "D9S\n",
      "D10S\n",
      "D11S\n"
     ]
    }
   ],
   "source": [
    "d = 12\n",
    "for i in range(0,d):\n",
    "    print(f\"D{i}S\")"
   ]
  },
  {
   "attachments": {},
   "cell_type": "markdown",
   "metadata": {},
   "source": [
    "6) Utilizar un ciclo while para realizar el factorial de un número guardado en una variable, sólo si la variable contiene un número entero mayor a 0"
   ]
  },
  {
   "cell_type": "code",
   "execution_count": 10,
   "metadata": {},
   "outputs": [
    {
     "name": "stdout",
     "output_type": "stream",
     "text": [
      "El factorial es 5040\n"
     ]
    }
   ],
   "source": [
    "e = 7\n",
    "\n",
    "if e > 0:\n",
    "    respuesta = 1\n",
    "    while e != 0:\n",
    "        respuesta *= e\n",
    "        e -= 1\n",
    "    print(\"El factorial es\", respuesta)\n",
    "else:\n",
    "    print(\"No es mayor que 0\")"
   ]
  },
  {
   "attachments": {},
   "cell_type": "markdown",
   "metadata": {},
   "source": [
    "7) Crear un ciclo for dentro de un ciclo while"
   ]
  },
  {
   "cell_type": "code",
   "execution_count": 12,
   "metadata": {},
   "outputs": [
    {
     "name": "stdout",
     "output_type": "stream",
     "text": [
      "Número: 1\n",
      "Número: 2\n",
      "Número: 3\n",
      "Número: 4\n",
      "Queda uno para que termine ...\n",
      "Número: 5\n",
      "Termino el bucle for\n",
      "Termino el bucle while\n"
     ]
    }
   ],
   "source": [
    "while True:\n",
    "    for i in range(1, 6):\n",
    "        if i == 5:\n",
    "            print(\"Queda uno para que termine ...\")\n",
    "        print(\"Número:\", i)\n",
    "    print(\"Termino el bucle for\")\n",
    "    break\n",
    "print(\"Termino el bucle while\")"
   ]
  },
  {
   "attachments": {},
   "cell_type": "markdown",
   "metadata": {},
   "source": [
    "8) Crear un ciclo while dentro de un ciclo for"
   ]
  },
  {
   "cell_type": "code",
   "execution_count": 14,
   "metadata": {},
   "outputs": [
    {
     "name": "stdout",
     "output_type": "stream",
     "text": [
      "Termino el bucle while\n",
      " ¡ IMPAR ! \n",
      "3 + 2 = 5\n",
      "Termino el bucle while\n",
      "Termino el bucle while\n",
      " ¡ IMPAR ! \n",
      "5 + 2 = 7\n",
      "Termino el bucle while\n",
      "Termino el bucle while\n",
      " ¡ IMPAR ! \n",
      "7 + 2 = 9\n",
      "Termino el bucle while\n",
      "Termino el bucle while\n",
      " ¡ IMPAR ! \n",
      "9 + 2 = 11\n",
      "Termino el bucle while\n",
      "Termino el bucle while\n",
      " ¡ IMPAR ! \n",
      "11 + 2 = 13\n",
      "Termino el bucle while\n",
      "Termino el bucle for\n"
     ]
    }
   ],
   "source": [
    "for i in range(2, 12):\n",
    "    while i % 2 != 0:\n",
    "        print(\" ¡ IMPAR ! \")\n",
    "        print(i, \"+ 2 =\", i+2)\n",
    "        break\n",
    "    print(\"Termino el bucle while\")\n",
    "print(\"Termino el bucle for\")"
   ]
  },
  {
   "attachments": {},
   "cell_type": "markdown",
   "metadata": {},
   "source": [
    "9) Imprimir los números primos existentes entre 0 y 30"
   ]
  },
  {
   "cell_type": "code",
   "execution_count": 16,
   "metadata": {},
   "outputs": [
    {
     "name": "stdout",
     "output_type": "stream",
     "text": [
      "2\n",
      "3\n",
      "5\n",
      "7\n",
      "11\n",
      "13\n",
      "17\n",
      "19\n",
      "23\n",
      "29\n"
     ]
    }
   ],
   "source": [
    "for i in range(0, 31):\n",
    "    div = 0\n",
    "    for y in range(1, i):\n",
    "        if i % y == 0:\n",
    "            div += 1\n",
    "    if div < 2 and i != 0 and i != 1:\n",
    "        print(i)"
   ]
  },
  {
   "attachments": {},
   "cell_type": "markdown",
   "metadata": {},
   "source": [
    "10) ¿Se puede mejorar el proceso del punto 9? Utilizar las sentencias break y/ó continue para tal fin"
   ]
  },
  {
   "cell_type": "code",
   "execution_count": 20,
   "metadata": {},
   "outputs": [
    {
     "name": "stdout",
     "output_type": "stream",
     "text": [
      "2\n",
      "3\n",
      "5\n",
      "7\n",
      "11\n",
      "13\n",
      "17\n",
      "19\n",
      "23\n",
      "29\n"
     ]
    }
   ],
   "source": [
    "for i in range(0, 31):\n",
    "    if i == 0 or i == 1:\n",
    "        continue\n",
    "    div = 0\n",
    "    for y in range(2, i):\n",
    "        if i % y == 0:\n",
    "            div += 1\n",
    "            break\n",
    "    if div == 0:\n",
    "        print(i)"
   ]
  },
  {
   "attachments": {},
   "cell_type": "markdown",
   "metadata": {},
   "source": [
    "11) En los puntos 9 y 10, se diseño un código que encuentra números primos y además se lo optimizó. ¿Es posible saber en qué medida se optimizó?"
   ]
  },
  {
   "cell_type": "code",
   "execution_count": null,
   "metadata": {},
   "outputs": [],
   "source": [
    "# Como en el punto 9 no se tuvo en cuenta las sentencias break y continue, habrá líneas del código dentro\n",
    "# del bucle que volveran a ser ejecutadas innecesariamente, dado que cualquier número, que este entre\n",
    "# 0 y 30, sea divisible por otro número diferente a 1 o si mismo ya no será tomado como primo, es decir,\n",
    "# se tiene que dar una sola vez para ya poder descartarlo como un posible número primo. La sentencia break\n",
    "# impide que siga la ejecución del bucle para seguir buscando tales divisores. Y la sentencia continue, aquí\n",
    "# se utiliza para saltar el código del bucle primero, en los casos de que el valor sea 0 o 1, dado que ninguno de los\n",
    "# dos es primo. La utilización de esta sentencia trae una ejecución más rapida que la primera  "
   ]
  },
  {
   "attachments": {},
   "cell_type": "markdown",
   "metadata": {},
   "source": [
    "12) Aplicando continue, armar un ciclo while que solo imprima los valores divisibles por 12, dentro del rango de números de 100 a 300"
   ]
  },
  {
   "cell_type": "code",
   "execution_count": 18,
   "metadata": {},
   "outputs": [
    {
     "name": "stdout",
     "output_type": "stream",
     "text": [
      "108\n",
      "120\n",
      "132\n",
      "144\n",
      "156\n",
      "168\n",
      "180\n",
      "192\n",
      "204\n",
      "216\n",
      "228\n",
      "240\n",
      "252\n",
      "264\n",
      "276\n",
      "288\n",
      "300\n"
     ]
    }
   ],
   "source": [
    "f = 100\n",
    "while f <= 300:\n",
    "    if f % 12 == 0:\n",
    "        print(f)\n",
    "    f += 1"
   ]
  },
  {
   "attachments": {},
   "cell_type": "markdown",
   "metadata": {},
   "source": [
    "13) Utilizar la función **input()** que permite hacer ingresos por teclado, para encontrar números primos y dar la opción al usario de buscar el siguiente"
   ]
  },
  {
   "cell_type": "code",
   "execution_count": 9,
   "metadata": {},
   "outputs": [
    {
     "name": "stdout",
     "output_type": "stream",
     "text": [
      "Es primo\n",
      "El siguiente primo es: 29\n"
     ]
    }
   ],
   "source": [
    "num = 1\n",
    "numero = 1\n",
    "while True:\n",
    "    num = input(\"Ingresa salida o numero o siguiente: \")\n",
    "    if num == \"salida\":\n",
    "        break\n",
    "    elif num == \"numero\":\n",
    "        numero = int(input(\"Ingrese un número: \"))\n",
    "        div = 0\n",
    "        for i in range(2, numero):\n",
    "            if numero % i == 0:\n",
    "                div += 1\n",
    "                break\n",
    "        if div == 0:\n",
    "            print(\"Es primo\")\n",
    "        else:\n",
    "            print(\"No es primo\")\n",
    "        continue\n",
    "    elif num == \"siguiente\":\n",
    "        while True:\n",
    "            numero += 1\n",
    "            div = 0\n",
    "            for i in range(2, numero):\n",
    "                if numero % i == 0:\n",
    "                    div += 1\n",
    "                    break\n",
    "            if div == 0:\n",
    "                print(\"El siguiente primo es:\", numero)\n",
    "                break\n",
    "    else:\n",
    "        print(\"Ingrese el valor determinado\")\n"
   ]
  },
  {
   "attachments": {},
   "cell_type": "markdown",
   "metadata": {},
   "source": [
    "14) Crear un ciclo while que encuentre dentro del rango de 100 a 300 el primer número divisible por 3 y además múltiplo de 6"
   ]
  },
  {
   "cell_type": "code",
   "execution_count": 11,
   "metadata": {},
   "outputs": [
    {
     "name": "stdout",
     "output_type": "stream",
     "text": [
      "102\n"
     ]
    }
   ],
   "source": [
    "rango = 100\n",
    "while rango <= 300:\n",
    "    if rango % 3 == 0 and rango % 6 == 0:\n",
    "        print(rango)\n",
    "        break\n",
    "    rango += 1\n"
   ]
  }
 ],
 "metadata": {
  "interpreter": {
   "hash": "c85384e4cb51c8b72350f3a8712cc8351fdc3955e32a27f9b60c6242ab125f01"
  },
  "kernelspec": {
   "display_name": "Python 3 (ipykernel)",
   "language": "python",
   "name": "python3"
  },
  "language_info": {
   "codemirror_mode": {
    "name": "ipython",
    "version": 3
   },
   "file_extension": ".py",
   "mimetype": "text/x-python",
   "name": "python",
   "nbconvert_exporter": "python",
   "pygments_lexer": "ipython3",
   "version": "3.10.12"
  }
 },
 "nbformat": 4,
 "nbformat_minor": 4
}
